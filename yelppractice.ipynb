{
 "cells": [
  {
   "cell_type": "markdown",
   "id": "19bc696c-9739-4804-8561-d5da0f793cdb",
   "metadata": {},
   "source": [
    "# import Jason file"
   ]
  },
  {
   "cell_type": "code",
   "execution_count": 1,
   "id": "2f89c735-16d2-4d22-9e6c-451f8ab0c17f",
   "metadata": {},
   "outputs": [],
   "source": [
    "#standard imports\n",
    "import numpy as np\n",
    "import pandas as pd\n",
    "import matplotlib.pyplot as plt\n",
    "import seaborn as sns\n",
    "#Additional Imports\n",
    "import os,json,math,time\n",
    "from yelpapi import YelpAPI\n",
    "from tqdm.notebook import tqdm_notebook"
   ]
  },
  {
   "cell_type": "code",
   "execution_count": 2,
   "id": "7f232562-cc95-4766-af1d-24586bfe9282",
   "metadata": {},
   "outputs": [
    {
     "data": {
      "text/plain": [
       "dict_keys(['client-id', 'api-key'])"
      ]
     },
     "execution_count": 2,
     "metadata": {},
     "output_type": "execute_result"
    }
   ],
   "source": [
    "import json\n",
    "with open('/Users/rowenahan/.secret/yelp_api.json') as f: #change the path to match YOUR path!!\n",
    "    login = json.load(f)\n",
    "login.keys()"
   ]
  },
  {
   "cell_type": "code",
   "execution_count": 3,
   "id": "e75b5505-0c5c-40b1-a418-6284b7091087",
   "metadata": {},
   "outputs": [
    {
     "data": {
      "text/plain": [
       "<yelpapi.yelpapi.YelpAPI at 0x158121d50>"
      ]
     },
     "execution_count": 3,
     "metadata": {},
     "output_type": "execute_result"
    }
   ],
   "source": [
    "from yelpapi import YelpAPI\n",
    "yelp_api = YelpAPI(login[\"api-key\"],timeout_s=5.0)\n",
    "yelp_api"
   ]
  },
  {
   "cell_type": "markdown",
   "id": "abeb07af-c64b-46d2-bc95-e85d7c309d0b",
   "metadata": {},
   "source": [
    "## Search location and term"
   ]
  },
  {
   "cell_type": "code",
   "execution_count": 4,
   "id": "15eee268-cda9-4881-a9b8-b8585c9b17a1",
   "metadata": {},
   "outputs": [],
   "source": [
    "LOCATION = \"Oahu, Hawaii\"\n",
    "TERM = \"Pizza\""
   ]
  },
  {
   "cell_type": "markdown",
   "id": "abf536fb-aeda-4a9a-9980-5b5da4eb4853",
   "metadata": {},
   "source": [
    "### Checking to see if Json file exists"
   ]
  },
  {
   "cell_type": "code",
   "execution_count": 5,
   "id": "039040ab-8564-40a9-ad5a-b8f13fe30a1c",
   "metadata": {},
   "outputs": [
    {
     "data": {
      "text/plain": [
       "'Data/results_in_progress_HNL_pizza.json'"
      ]
     },
     "execution_count": 5,
     "metadata": {},
     "output_type": "execute_result"
    }
   ],
   "source": [
    "#Specifying JSON_FILE filename (can include a folder\n",
    "#includ the search term in the filename)\n",
    "JSON_FILE = \"Data/results_in_progress_HNL_pizza.json\"\n",
    "JSON_FILE"
   ]
  },
  {
   "cell_type": "code",
   "execution_count": 6,
   "id": "d81e012c-ae4f-4aae-bbf4-5b550c2e22e5",
   "metadata": {},
   "outputs": [
    {
     "name": "stdout",
     "output_type": "stream",
     "text": [
      "[i] Data/results_in_progress_HNL_pizza.json already exists.\n"
     ]
    }
   ],
   "source": [
    "# Check if JSON_FILE exists\n",
    "file_exists=os.path.isfile(JSON_FILE)\n",
    "#If it does not exist:\n",
    "if file_exists==False:\n",
    "    #Create any needed folders\n",
    "    #get the folder Name only\n",
    "    folder=os.path.dirname(JSON_FILE)\n",
    "    #IF JSON_FILE included a folder\n",
    "    if len(folder)>0:\n",
    "        #create the folder\n",
    "        os.makedirs(folder,exist_ok=True)\n",
    "\n",
    "    #INFORM USER AND SAVE EMPTY LIST\n",
    "    print(f\"[i] {JSON_FILE} not found. Saving empty list to file\")\n",
    "\n",
    "    #save an empty list\n",
    "    with open(JSON_FILE, \"w\") as f:\n",
    "        json.dump([],f)\n",
    "#if it exists, inform user\n",
    "else:\n",
    "    print(f\"[i] {JSON_FILE} already exists.\")"
   ]
  },
  {
   "cell_type": "code",
   "execution_count": 7,
   "id": "761c27c1-4dfe-44b1-a839-54b6c01e17fa",
   "metadata": {},
   "outputs": [
    {
     "name": "stdout",
     "output_type": "stream",
     "text": [
      "- 0 previous resuts found.\n"
     ]
    }
   ],
   "source": [
    "#Load previous results and use len of results for offset\n",
    "with open(JSON_FILE,\"r\") as f:\n",
    "    previous_results = json.load(f)\n",
    "#Set offset based on previous results\n",
    "n_results = len(previous_results)\n",
    "print(f\"- {n_results} previous resuts found.\")"
   ]
  },
  {
   "cell_type": "code",
   "execution_count": 8,
   "id": "401b59d6-51bc-4219-b4f6-508de9c2f023",
   "metadata": {},
   "outputs": [
    {
     "name": "stdout",
     "output_type": "stream",
     "text": [
      "<class 'dict'>\n"
     ]
    },
    {
     "data": {
      "text/plain": [
       "dict_keys(['businesses', 'total', 'region'])"
      ]
     },
     "execution_count": 8,
     "metadata": {},
     "output_type": "execute_result"
    }
   ],
   "source": [
    "search_results = yelp_api.search_query(location = LOCATION,\n",
    "                                      term= TERM,\n",
    "                                      offset=n_results)\n",
    "print(type(search_results))\n",
    "search_results.keys()"
   ]
  },
  {
   "cell_type": "code",
   "execution_count": 9,
   "id": "c47ffce6-dab6-454f-960f-091d1eb089be",
   "metadata": {},
   "outputs": [
    {
     "data": {
      "text/plain": [
       "925"
      ]
     },
     "execution_count": 9,
     "metadata": {},
     "output_type": "execute_result"
    }
   ],
   "source": [
    "search_results[\"total\"]"
   ]
  },
  {
   "cell_type": "code",
   "execution_count": 10,
   "id": "83093d0d-9859-4f9b-b1a5-a6b9ac32f161",
   "metadata": {},
   "outputs": [
    {
     "data": {
      "text/plain": [
       "20"
      ]
     },
     "execution_count": 10,
     "metadata": {},
     "output_type": "execute_result"
    }
   ],
   "source": [
    "#How many did we get the details for?\n",
    "results_per_page = len(search_results[\"businesses\"])\n",
    "results_per_page"
   ]
  },
  {
   "cell_type": "code",
   "execution_count": 11,
   "id": "6ea39867-b08d-425a-9f0e-b70f05c0fed2",
   "metadata": {},
   "outputs": [
    {
     "data": {
      "text/plain": [
       "47"
      ]
     },
     "execution_count": 11,
     "metadata": {},
     "output_type": "execute_result"
    }
   ],
   "source": [
    "#import additional packages for controlling our loop\n",
    "import time, math\n",
    "#Use math.ceil to round up for the total number of pages of results.\n",
    "n_pages = math.ceil((search_results[\"total\"]-n_results)/results_per_page)\n",
    "n_pages"
   ]
  },
  {
   "cell_type": "code",
   "execution_count": 12,
   "id": "6a326dfa-de9d-425a-a217-19ff968a3e93",
   "metadata": {},
   "outputs": [
    {
     "name": "stdout",
     "output_type": "stream",
     "text": [
      "Requirement already satisfied: tqdm in /opt/homebrew/Caskroom/miniforge/base/envs/dojo-env/lib/python3.10/site-packages (4.65.0)\n",
      "Note: you may need to restart the kernel to use updated packages.\n"
     ]
    }
   ],
   "source": [
    "pip install tqdm"
   ]
  },
  {
   "cell_type": "code",
   "execution_count": 13,
   "id": "d2848dab-f99a-41fa-827a-ca16675b6b17",
   "metadata": {},
   "outputs": [
    {
     "data": {
      "application/vnd.jupyter.widget-view+json": {
       "model_id": "ec2715b9c1b444988f156f1574ce538b",
       "version_major": 2,
       "version_minor": 0
      },
      "text/plain": [
       "  0%|          | 0/47 [00:00<?, ?it/s]"
      ]
     },
     "metadata": {},
     "output_type": "display_data"
    }
   ],
   "source": [
    "from tqdm.notebook import tqdm_notebook\n",
    "import time\n",
    "for i in tqdm_notebook(range(n_pages)):\n",
    "    #adds 200 ms pause\n",
    "    time.sleep(.2)"
   ]
  },
  {
   "cell_type": "code",
   "execution_count": 14,
   "id": "c46b1c1a-d944-426e-b1fe-c0d8478aba27",
   "metadata": {},
   "outputs": [
    {
     "data": {
      "text/plain": [
       "False"
      ]
     },
     "execution_count": 14,
     "metadata": {},
     "output_type": "execute_result"
    }
   ],
   "source": [
    "os.remove(JSON_FILE)\n",
    "os.path.isfile(JSON_FILE)"
   ]
  },
  {
   "cell_type": "code",
   "execution_count": 15,
   "id": "63058193-73ee-4de6-969b-3c252e9085d4",
   "metadata": {},
   "outputs": [],
   "source": [
    "def create_json_file(JSON_FILE, delete_if_exists=False):\n",
    "        #check if JSON_FILE exists\n",
    "        file_exists=os.path.isfile(JSON_FILE)\n",
    "        # if it DOSE exist:\n",
    "        if file_exists == True:\n",
    "            #check if user wants to delete if exists\n",
    "            if delete_if_exists==True:\n",
    "                print(f\"[!]  {JSON_FILE} already exists. Deleting previous file...\")\n",
    "                #delet file and confirm it no longer exits\n",
    "                os.remove(JSON_FILE)\n",
    "                # recursive call to function after old file deleted\n",
    "                create_json_file(JSON_FILE, delete_if_exists=False)\n",
    "            else:\n",
    "                print(f\"[i] {JSON_FILE} already exists.\")\n",
    "        #if it dose NOT exist:\n",
    "        else:\n",
    "            #infor user and save empty list\n",
    "            print(f\"[i] {JSON_FILE} not found. Sving empty list to new file.\")\n",
    "            # Create any needed folders\n",
    "            #Get the folder name only\n",
    "            folder=os.path.dirname(JSON_FILE)\n",
    "            #if JSON_FILE included a folder\n",
    "            if len(folder)>0:\n",
    "                #create the folder\n",
    "                os.makedirs(folder,exist_ok=True)\n",
    "            #save empty list to start the json file\n",
    "            with open(JSON_FILE,\"w\") as f:\n",
    "                json.dump([],f)"
   ]
  },
  {
   "cell_type": "code",
   "execution_count": 16,
   "id": "a3f0a25d-dcad-4afc-88f3-068e7ac49a3e",
   "metadata": {},
   "outputs": [
    {
     "name": "stdout",
     "output_type": "stream",
     "text": [
      "[i] Data/results_in_progress_HNL_pizza.json not found. Sving empty list to new file.\n",
      "- 0 previoous results found.\n"
     ]
    },
    {
     "data": {
      "text/plain": [
       "47"
      ]
     },
     "execution_count": 16,
     "metadata": {},
     "output_type": "execute_result"
    }
   ],
   "source": [
    "# Create a new empty json file (exist the previous if it exists)\n",
    "create_json_file(JSON_FILE,delete_if_exists=True)\n",
    "# loadprevious results and use en of results for offset\n",
    "with open(JSON_FILE,\"r\") as f:\n",
    "    previous_results=json.load(f)\n",
    "#set offset based on previous results\n",
    "n_results=len(previous_results)\n",
    "print(f\"- {n_results} previoous results found.\")\n",
    "#use our yelp_api variable\"s search_query method to perform our API call\n",
    "results=yelp_api.search_query(location=LOCATION,\n",
    "                             term=TERM,\n",
    "                             offset=n_results)\n",
    "#how many results total?\n",
    "total_results = results[\"total\"]\n",
    "#how many did we get the details for?\n",
    "resutls_per_page = len(results[\"businesses\"])\n",
    "#use math ceil to round up for the total number of pages of results\n",
    "n_pages = math.ceil((results[\"total\"]-n_results)/results_per_page)\n",
    "n_pages"
   ]
  },
  {
   "cell_type": "code",
   "execution_count": 17,
   "id": "1de07ff4-631f-4e33-b11b-a6d624ff6887",
   "metadata": {},
   "outputs": [
    {
     "data": {
      "application/vnd.jupyter.widget-view+json": {
       "model_id": "0c2b9bb0c7b440e4bac3bd2fd54a4ada",
       "version_major": 2,
       "version_minor": 0
      },
      "text/plain": [
       "  0%|          | 0/47 [00:00<?, ?it/s]"
      ]
     },
     "metadata": {},
     "output_type": "display_data"
    }
   ],
   "source": [
    "for i in tqdm_notebook(range(1,n_pages+1)):\n",
    "    #Read in results in progress file and check the length\n",
    "    with open(JSON_FILE,\"r\") as f:\n",
    "        previous_results= json.load(f)\n",
    "     #same number of results for the use as offset\n",
    "    n_results=len(previous_results)\n",
    "    if (n_results + results_per_page)>1000:\n",
    "        print(\"Exceeded 1000 api calls. Stopping loop.\")\n",
    "        break\n",
    "\n",
    "    #use n_results as the offset\n",
    "    results=yelp_api.search_query(location=LOCATION,\n",
    "                                 term=TERM,\n",
    "                                 offset=n_results)\n",
    "    #append new results and save to file\n",
    "    previous_results.extend(results[\"businesses\"])\n",
    "    #display (previous_results)\n",
    "    with open(JSON_FILE,\"w\") as f:\n",
    "        json.dump(previous_results,f)\n",
    "\n",
    "    time.sleep(.2)"
   ]
  },
  {
   "cell_type": "code",
   "execution_count": 18,
   "id": "04020d26-d6fb-4f4c-b637-132932c43cf7",
   "metadata": {},
   "outputs": [
    {
     "data": {
      "text/html": [
       "<div>\n",
       "<style scoped>\n",
       "    .dataframe tbody tr th:only-of-type {\n",
       "        vertical-align: middle;\n",
       "    }\n",
       "\n",
       "    .dataframe tbody tr th {\n",
       "        vertical-align: top;\n",
       "    }\n",
       "\n",
       "    .dataframe thead th {\n",
       "        text-align: right;\n",
       "    }\n",
       "</style>\n",
       "<table border=\"1\" class=\"dataframe\">\n",
       "  <thead>\n",
       "    <tr style=\"text-align: right;\">\n",
       "      <th></th>\n",
       "      <th>id</th>\n",
       "      <th>alias</th>\n",
       "      <th>name</th>\n",
       "      <th>image_url</th>\n",
       "      <th>is_closed</th>\n",
       "      <th>url</th>\n",
       "      <th>review_count</th>\n",
       "      <th>categories</th>\n",
       "      <th>rating</th>\n",
       "      <th>coordinates</th>\n",
       "      <th>transactions</th>\n",
       "      <th>price</th>\n",
       "      <th>location</th>\n",
       "      <th>phone</th>\n",
       "      <th>display_phone</th>\n",
       "      <th>distance</th>\n",
       "    </tr>\n",
       "  </thead>\n",
       "  <tbody>\n",
       "    <tr>\n",
       "      <th>0</th>\n",
       "      <td>b7beu_ddBb7yiMc0Tgfr0A</td>\n",
       "      <td>old-town-pizzeria-and-tap-house-wahiawa</td>\n",
       "      <td>Old Town Pizzeria &amp; Tap House</td>\n",
       "      <td>https://s3-media3.fl.yelpcdn.com/bphoto/TYq3l6...</td>\n",
       "      <td>False</td>\n",
       "      <td>https://www.yelp.com/biz/old-town-pizzeria-and...</td>\n",
       "      <td>39</td>\n",
       "      <td>[{'alias': 'pizza', 'title': 'Pizza'}, {'alias...</td>\n",
       "      <td>4.0</td>\n",
       "      <td>{'latitude': 21.4935665206445, 'longitude': -1...</td>\n",
       "      <td>[]</td>\n",
       "      <td>$$</td>\n",
       "      <td>{'address1': '167 S Kamehameha Hwy', 'address2...</td>\n",
       "      <td>+18082005800</td>\n",
       "      <td>(808) 200-5800</td>\n",
       "      <td>6806.093112</td>\n",
       "    </tr>\n",
       "    <tr>\n",
       "      <th>1</th>\n",
       "      <td>ev-HilLF1ru2S76NkAxQIA</td>\n",
       "      <td>uncles-ny-deli-pizza-pasta-and-subs-wahiawa</td>\n",
       "      <td>Uncle's NY Deli, Pizza, Pasta &amp; Subs</td>\n",
       "      <td>https://s3-media4.fl.yelpcdn.com/bphoto/myqY1l...</td>\n",
       "      <td>False</td>\n",
       "      <td>https://www.yelp.com/biz/uncles-ny-deli-pizza-...</td>\n",
       "      <td>334</td>\n",
       "      <td>[{'alias': 'pizza', 'title': 'Pizza'}, {'alias...</td>\n",
       "      <td>4.0</td>\n",
       "      <td>{'latitude': 21.49506, 'longitude': -158.05007}</td>\n",
       "      <td>[pickup]</td>\n",
       "      <td>$$</td>\n",
       "      <td>{'address1': '1718 Wilikina Dr', 'address2': '...</td>\n",
       "      <td>+18085173232</td>\n",
       "      <td>(808) 517-3232</td>\n",
       "      <td>8978.617509</td>\n",
       "    </tr>\n",
       "    <tr>\n",
       "      <th>2</th>\n",
       "      <td>G36RP1LZPZDpBIM0SRP5UA</td>\n",
       "      <td>bostons-north-end-pizza-bakery-aiea-3</td>\n",
       "      <td>Boston's North End Pizza Bakery</td>\n",
       "      <td>https://s3-media2.fl.yelpcdn.com/bphoto/G1PY2j...</td>\n",
       "      <td>False</td>\n",
       "      <td>https://www.yelp.com/biz/bostons-north-end-piz...</td>\n",
       "      <td>741</td>\n",
       "      <td>[{'alias': 'pizza', 'title': 'Pizza'}]</td>\n",
       "      <td>4.0</td>\n",
       "      <td>{'latitude': 21.380100434609627, 'longitude': ...</td>\n",
       "      <td>[pickup, delivery]</td>\n",
       "      <td>$$</td>\n",
       "      <td>{'address1': '98-302 Kamehameha Hwy', 'address...</td>\n",
       "      <td>+18084874055</td>\n",
       "      <td>(808) 487-4055</td>\n",
       "      <td>11779.251057</td>\n",
       "    </tr>\n",
       "    <tr>\n",
       "      <th>3</th>\n",
       "      <td>_fb2LPaNzHexi7tPQhcnXg</td>\n",
       "      <td>da-big-kahunas-pizza-honolulu</td>\n",
       "      <td>Da Big Kahuna's Pizza</td>\n",
       "      <td>https://s3-media3.fl.yelpcdn.com/bphoto/5laNR4...</td>\n",
       "      <td>False</td>\n",
       "      <td>https://www.yelp.com/biz/da-big-kahunas-pizza-...</td>\n",
       "      <td>1277</td>\n",
       "      <td>[{'alias': 'pizza', 'title': 'Pizza'}]</td>\n",
       "      <td>4.0</td>\n",
       "      <td>{'latitude': 21.335218, 'longitude': -157.91598}</td>\n",
       "      <td>[delivery]</td>\n",
       "      <td>$$</td>\n",
       "      <td>{'address1': '550 Paiea St', 'address2': '', '...</td>\n",
       "      <td>+18088335588</td>\n",
       "      <td>(808) 833-5588</td>\n",
       "      <td>17198.356628</td>\n",
       "    </tr>\n",
       "    <tr>\n",
       "      <th>4</th>\n",
       "      <td>2qoHbQ6YzCJS5Xmpom4opA</td>\n",
       "      <td>little-g-cafe-by-garibaldis-honolulu</td>\n",
       "      <td>Little G Cafe By Garibaldi's</td>\n",
       "      <td>https://s3-media4.fl.yelpcdn.com/bphoto/9jSkrN...</td>\n",
       "      <td>False</td>\n",
       "      <td>https://www.yelp.com/biz/little-g-cafe-by-gari...</td>\n",
       "      <td>85</td>\n",
       "      <td>[{'alias': 'gourmet', 'title': 'Specialty Food...</td>\n",
       "      <td>4.5</td>\n",
       "      <td>{'latitude': 21.296945950477628, 'longitude': ...</td>\n",
       "      <td>[delivery]</td>\n",
       "      <td>$$</td>\n",
       "      <td>{'address1': '808 Sheridan St', 'address2': ''...</td>\n",
       "      <td>+18086999116</td>\n",
       "      <td>(808) 699-9116</td>\n",
       "      <td>24244.559429</td>\n",
       "    </tr>\n",
       "  </tbody>\n",
       "</table>\n",
       "</div>"
      ],
      "text/plain": [
       "                       id                                        alias  \\\n",
       "0  b7beu_ddBb7yiMc0Tgfr0A      old-town-pizzeria-and-tap-house-wahiawa   \n",
       "1  ev-HilLF1ru2S76NkAxQIA  uncles-ny-deli-pizza-pasta-and-subs-wahiawa   \n",
       "2  G36RP1LZPZDpBIM0SRP5UA        bostons-north-end-pizza-bakery-aiea-3   \n",
       "3  _fb2LPaNzHexi7tPQhcnXg                da-big-kahunas-pizza-honolulu   \n",
       "4  2qoHbQ6YzCJS5Xmpom4opA         little-g-cafe-by-garibaldis-honolulu   \n",
       "\n",
       "                                   name  \\\n",
       "0         Old Town Pizzeria & Tap House   \n",
       "1  Uncle's NY Deli, Pizza, Pasta & Subs   \n",
       "2       Boston's North End Pizza Bakery   \n",
       "3                 Da Big Kahuna's Pizza   \n",
       "4          Little G Cafe By Garibaldi's   \n",
       "\n",
       "                                           image_url  is_closed  \\\n",
       "0  https://s3-media3.fl.yelpcdn.com/bphoto/TYq3l6...      False   \n",
       "1  https://s3-media4.fl.yelpcdn.com/bphoto/myqY1l...      False   \n",
       "2  https://s3-media2.fl.yelpcdn.com/bphoto/G1PY2j...      False   \n",
       "3  https://s3-media3.fl.yelpcdn.com/bphoto/5laNR4...      False   \n",
       "4  https://s3-media4.fl.yelpcdn.com/bphoto/9jSkrN...      False   \n",
       "\n",
       "                                                 url  review_count  \\\n",
       "0  https://www.yelp.com/biz/old-town-pizzeria-and...            39   \n",
       "1  https://www.yelp.com/biz/uncles-ny-deli-pizza-...           334   \n",
       "2  https://www.yelp.com/biz/bostons-north-end-piz...           741   \n",
       "3  https://www.yelp.com/biz/da-big-kahunas-pizza-...          1277   \n",
       "4  https://www.yelp.com/biz/little-g-cafe-by-gari...            85   \n",
       "\n",
       "                                          categories  rating  \\\n",
       "0  [{'alias': 'pizza', 'title': 'Pizza'}, {'alias...     4.0   \n",
       "1  [{'alias': 'pizza', 'title': 'Pizza'}, {'alias...     4.0   \n",
       "2             [{'alias': 'pizza', 'title': 'Pizza'}]     4.0   \n",
       "3             [{'alias': 'pizza', 'title': 'Pizza'}]     4.0   \n",
       "4  [{'alias': 'gourmet', 'title': 'Specialty Food...     4.5   \n",
       "\n",
       "                                         coordinates        transactions  \\\n",
       "0  {'latitude': 21.4935665206445, 'longitude': -1...                  []   \n",
       "1    {'latitude': 21.49506, 'longitude': -158.05007}            [pickup]   \n",
       "2  {'latitude': 21.380100434609627, 'longitude': ...  [pickup, delivery]   \n",
       "3   {'latitude': 21.335218, 'longitude': -157.91598}          [delivery]   \n",
       "4  {'latitude': 21.296945950477628, 'longitude': ...          [delivery]   \n",
       "\n",
       "  price                                           location         phone  \\\n",
       "0    $$  {'address1': '167 S Kamehameha Hwy', 'address2...  +18082005800   \n",
       "1    $$  {'address1': '1718 Wilikina Dr', 'address2': '...  +18085173232   \n",
       "2    $$  {'address1': '98-302 Kamehameha Hwy', 'address...  +18084874055   \n",
       "3    $$  {'address1': '550 Paiea St', 'address2': '', '...  +18088335588   \n",
       "4    $$  {'address1': '808 Sheridan St', 'address2': ''...  +18086999116   \n",
       "\n",
       "    display_phone      distance  \n",
       "0  (808) 200-5800   6806.093112  \n",
       "1  (808) 517-3232   8978.617509  \n",
       "2  (808) 487-4055  11779.251057  \n",
       "3  (808) 833-5588  17198.356628  \n",
       "4  (808) 699-9116  24244.559429  "
      ]
     },
     "metadata": {},
     "output_type": "display_data"
    },
    {
     "data": {
      "text/html": [
       "<div>\n",
       "<style scoped>\n",
       "    .dataframe tbody tr th:only-of-type {\n",
       "        vertical-align: middle;\n",
       "    }\n",
       "\n",
       "    .dataframe tbody tr th {\n",
       "        vertical-align: top;\n",
       "    }\n",
       "\n",
       "    .dataframe thead th {\n",
       "        text-align: right;\n",
       "    }\n",
       "</style>\n",
       "<table border=\"1\" class=\"dataframe\">\n",
       "  <thead>\n",
       "    <tr style=\"text-align: right;\">\n",
       "      <th></th>\n",
       "      <th>id</th>\n",
       "      <th>alias</th>\n",
       "      <th>name</th>\n",
       "      <th>image_url</th>\n",
       "      <th>is_closed</th>\n",
       "      <th>url</th>\n",
       "      <th>review_count</th>\n",
       "      <th>categories</th>\n",
       "      <th>rating</th>\n",
       "      <th>coordinates</th>\n",
       "      <th>transactions</th>\n",
       "      <th>price</th>\n",
       "      <th>location</th>\n",
       "      <th>phone</th>\n",
       "      <th>display_phone</th>\n",
       "      <th>distance</th>\n",
       "    </tr>\n",
       "  </thead>\n",
       "  <tbody>\n",
       "    <tr>\n",
       "      <th>920</th>\n",
       "      <td>a1TTKkQqmdVH9-rOxButIA</td>\n",
       "      <td>panda-express-honolulu-10</td>\n",
       "      <td>Panda Express</td>\n",
       "      <td>https://s3-media3.fl.yelpcdn.com/bphoto/YBVyCz...</td>\n",
       "      <td>False</td>\n",
       "      <td>https://www.yelp.com/biz/panda-express-honolul...</td>\n",
       "      <td>227</td>\n",
       "      <td>[{'alias': 'chinese', 'title': 'Chinese'}, {'a...</td>\n",
       "      <td>3.0</td>\n",
       "      <td>{'latitude': 21.29726, 'longitude': -157.83767}</td>\n",
       "      <td>[delivery, pickup]</td>\n",
       "      <td>$$</td>\n",
       "      <td>{'address1': '1505 S. King St.', 'address2': '...</td>\n",
       "      <td>+18089476891</td>\n",
       "      <td>(808) 947-6891</td>\n",
       "      <td>24477.754276</td>\n",
       "    </tr>\n",
       "    <tr>\n",
       "      <th>921</th>\n",
       "      <td>1F_zEDwhtq9SfBX429pA1w</td>\n",
       "      <td>subway-honolulu-119</td>\n",
       "      <td>Subway</td>\n",
       "      <td>https://s3-media4.fl.yelpcdn.com/bphoto/Zu5Ofi...</td>\n",
       "      <td>False</td>\n",
       "      <td>https://www.yelp.com/biz/subway-honolulu-119?a...</td>\n",
       "      <td>55</td>\n",
       "      <td>[{'alias': 'hotdogs', 'title': 'Fast Food'}, {...</td>\n",
       "      <td>2.0</td>\n",
       "      <td>{'latitude': 21.2749824032138, 'longitude': -1...</td>\n",
       "      <td>[delivery, pickup]</td>\n",
       "      <td>$</td>\n",
       "      <td>{'address1': '4614 Kilauea Ave', 'address2': '...</td>\n",
       "      <td>+18087342240</td>\n",
       "      <td>(808) 734-2240</td>\n",
       "      <td>29633.076538</td>\n",
       "    </tr>\n",
       "    <tr>\n",
       "      <th>922</th>\n",
       "      <td>JGxJXf4DrzyF4b36oiQEtQ</td>\n",
       "      <td>panda-express-honolulu-3</td>\n",
       "      <td>Panda Express</td>\n",
       "      <td>https://s3-media2.fl.yelpcdn.com/bphoto/bxa8BD...</td>\n",
       "      <td>False</td>\n",
       "      <td>https://www.yelp.com/biz/panda-express-honolul...</td>\n",
       "      <td>104</td>\n",
       "      <td>[{'alias': 'chinese', 'title': 'Chinese'}, {'a...</td>\n",
       "      <td>3.0</td>\n",
       "      <td>{'latitude': 21.27763, 'longitude': -157.78688}</td>\n",
       "      <td>[delivery, pickup]</td>\n",
       "      <td>$$</td>\n",
       "      <td>{'address1': '4211 Waialae Ave. A1&amp;a2', 'addre...</td>\n",
       "      <td>+18087395098</td>\n",
       "      <td>(808) 739-5098</td>\n",
       "      <td>29442.362879</td>\n",
       "    </tr>\n",
       "    <tr>\n",
       "      <th>923</th>\n",
       "      <td>Ya8dWhNcGI5WAkXKXmOLkA</td>\n",
       "      <td>barnes-and-noble-cafe-honolulu-2</td>\n",
       "      <td>Barnes &amp; Noble Cafe</td>\n",
       "      <td>https://s3-media2.fl.yelpcdn.com/bphoto/snp-u7...</td>\n",
       "      <td>False</td>\n",
       "      <td>https://www.yelp.com/biz/barnes-and-noble-cafe...</td>\n",
       "      <td>54</td>\n",
       "      <td>[{'alias': 'coffee', 'title': 'Coffee &amp; Tea'},...</td>\n",
       "      <td>2.5</td>\n",
       "      <td>{'latitude': 21.2918195, 'longitude': -157.846...</td>\n",
       "      <td>[delivery]</td>\n",
       "      <td>$</td>\n",
       "      <td>{'address1': '1450 Ala Moana Blvd', 'address2'...</td>\n",
       "      <td>+18089497307</td>\n",
       "      <td>(808) 949-7307</td>\n",
       "      <td>24548.681970</td>\n",
       "    </tr>\n",
       "    <tr>\n",
       "      <th>924</th>\n",
       "      <td>coOKvZmB0CBWOgeYOaRPVQ</td>\n",
       "      <td>buffalo-wild-wings-honolulu-5</td>\n",
       "      <td>Buffalo Wild Wings</td>\n",
       "      <td>https://s3-media2.fl.yelpcdn.com/bphoto/ojj0FT...</td>\n",
       "      <td>False</td>\n",
       "      <td>https://www.yelp.com/biz/buffalo-wild-wings-ho...</td>\n",
       "      <td>318</td>\n",
       "      <td>[{'alias': 'tradamerican', 'title': 'American ...</td>\n",
       "      <td>2.0</td>\n",
       "      <td>{'latitude': 21.2913, 'longitude': -157.84338}</td>\n",
       "      <td>[delivery, pickup]</td>\n",
       "      <td>$$</td>\n",
       "      <td>{'address1': '1450 Ala Moana Blvd', 'address2'...</td>\n",
       "      <td>+18089425445</td>\n",
       "      <td>(808) 942-5445</td>\n",
       "      <td>24736.761099</td>\n",
       "    </tr>\n",
       "  </tbody>\n",
       "</table>\n",
       "</div>"
      ],
      "text/plain": [
       "                         id                             alias  \\\n",
       "920  a1TTKkQqmdVH9-rOxButIA         panda-express-honolulu-10   \n",
       "921  1F_zEDwhtq9SfBX429pA1w               subway-honolulu-119   \n",
       "922  JGxJXf4DrzyF4b36oiQEtQ          panda-express-honolulu-3   \n",
       "923  Ya8dWhNcGI5WAkXKXmOLkA  barnes-and-noble-cafe-honolulu-2   \n",
       "924  coOKvZmB0CBWOgeYOaRPVQ     buffalo-wild-wings-honolulu-5   \n",
       "\n",
       "                    name                                          image_url  \\\n",
       "920        Panda Express  https://s3-media3.fl.yelpcdn.com/bphoto/YBVyCz...   \n",
       "921               Subway  https://s3-media4.fl.yelpcdn.com/bphoto/Zu5Ofi...   \n",
       "922        Panda Express  https://s3-media2.fl.yelpcdn.com/bphoto/bxa8BD...   \n",
       "923  Barnes & Noble Cafe  https://s3-media2.fl.yelpcdn.com/bphoto/snp-u7...   \n",
       "924   Buffalo Wild Wings  https://s3-media2.fl.yelpcdn.com/bphoto/ojj0FT...   \n",
       "\n",
       "     is_closed                                                url  \\\n",
       "920      False  https://www.yelp.com/biz/panda-express-honolul...   \n",
       "921      False  https://www.yelp.com/biz/subway-honolulu-119?a...   \n",
       "922      False  https://www.yelp.com/biz/panda-express-honolul...   \n",
       "923      False  https://www.yelp.com/biz/barnes-and-noble-cafe...   \n",
       "924      False  https://www.yelp.com/biz/buffalo-wild-wings-ho...   \n",
       "\n",
       "     review_count                                         categories  rating  \\\n",
       "920           227  [{'alias': 'chinese', 'title': 'Chinese'}, {'a...     3.0   \n",
       "921            55  [{'alias': 'hotdogs', 'title': 'Fast Food'}, {...     2.0   \n",
       "922           104  [{'alias': 'chinese', 'title': 'Chinese'}, {'a...     3.0   \n",
       "923            54  [{'alias': 'coffee', 'title': 'Coffee & Tea'},...     2.5   \n",
       "924           318  [{'alias': 'tradamerican', 'title': 'American ...     2.0   \n",
       "\n",
       "                                           coordinates        transactions  \\\n",
       "920    {'latitude': 21.29726, 'longitude': -157.83767}  [delivery, pickup]   \n",
       "921  {'latitude': 21.2749824032138, 'longitude': -1...  [delivery, pickup]   \n",
       "922    {'latitude': 21.27763, 'longitude': -157.78688}  [delivery, pickup]   \n",
       "923  {'latitude': 21.2918195, 'longitude': -157.846...          [delivery]   \n",
       "924     {'latitude': 21.2913, 'longitude': -157.84338}  [delivery, pickup]   \n",
       "\n",
       "    price                                           location         phone  \\\n",
       "920    $$  {'address1': '1505 S. King St.', 'address2': '...  +18089476891   \n",
       "921     $  {'address1': '4614 Kilauea Ave', 'address2': '...  +18087342240   \n",
       "922    $$  {'address1': '4211 Waialae Ave. A1&a2', 'addre...  +18087395098   \n",
       "923     $  {'address1': '1450 Ala Moana Blvd', 'address2'...  +18089497307   \n",
       "924    $$  {'address1': '1450 Ala Moana Blvd', 'address2'...  +18089425445   \n",
       "\n",
       "      display_phone      distance  \n",
       "920  (808) 947-6891  24477.754276  \n",
       "921  (808) 734-2240  29633.076538  \n",
       "922  (808) 739-5098  29442.362879  \n",
       "923  (808) 949-7307  24548.681970  \n",
       "924  (808) 942-5445  24736.761099  "
      ]
     },
     "metadata": {},
     "output_type": "display_data"
    }
   ],
   "source": [
    "#load final results\n",
    "final_df = pd.read_json(JSON_FILE)\n",
    "display(final_df.head(), final_df.tail())"
   ]
  },
  {
   "cell_type": "code",
   "execution_count": 19,
   "id": "45b693f2-b621-4b32-85aa-a28fdbd6962b",
   "metadata": {},
   "outputs": [
    {
     "ename": "TypeError",
     "evalue": "unhashable type: 'list'",
     "output_type": "error",
     "traceback": [
      "\u001b[0;31m---------------------------------------------------------------------------\u001b[0m",
      "\u001b[0;31mTypeError\u001b[0m                                 Traceback (most recent call last)",
      "Cell \u001b[0;32mIn[19], line 1\u001b[0m\n\u001b[0;32m----> 1\u001b[0m \u001b[43mfinal_df\u001b[49m\u001b[38;5;241;43m.\u001b[39;49m\u001b[43mduplicated\u001b[49m\u001b[43m(\u001b[49m\u001b[43m)\u001b[49m\u001b[38;5;241m.\u001b[39msum()\n",
      "File \u001b[0;32m/opt/homebrew/Caskroom/miniforge/base/envs/dojo-env/lib/python3.10/site-packages/pandas/core/frame.py:6814\u001b[0m, in \u001b[0;36mDataFrame.duplicated\u001b[0;34m(self, subset, keep)\u001b[0m\n\u001b[1;32m   6812\u001b[0m \u001b[38;5;28;01melse\u001b[39;00m:\n\u001b[1;32m   6813\u001b[0m     vals \u001b[38;5;241m=\u001b[39m (col\u001b[38;5;241m.\u001b[39mvalues \u001b[38;5;28;01mfor\u001b[39;00m name, col \u001b[38;5;129;01min\u001b[39;00m \u001b[38;5;28mself\u001b[39m\u001b[38;5;241m.\u001b[39mitems() \u001b[38;5;28;01mif\u001b[39;00m name \u001b[38;5;129;01min\u001b[39;00m subset)\n\u001b[0;32m-> 6814\u001b[0m     labels, shape \u001b[38;5;241m=\u001b[39m \u001b[38;5;28mmap\u001b[39m(\u001b[38;5;28mlist\u001b[39m, \u001b[38;5;28;43mzip\u001b[39;49m\u001b[43m(\u001b[49m\u001b[38;5;241;43m*\u001b[39;49m\u001b[38;5;28;43mmap\u001b[39;49m\u001b[43m(\u001b[49m\u001b[43mf\u001b[49m\u001b[43m,\u001b[49m\u001b[43m \u001b[49m\u001b[43mvals\u001b[49m\u001b[43m)\u001b[49m\u001b[43m)\u001b[49m)\n\u001b[1;32m   6816\u001b[0m     ids \u001b[38;5;241m=\u001b[39m get_group_index(\n\u001b[1;32m   6817\u001b[0m         labels,\n\u001b[1;32m   6818\u001b[0m         \u001b[38;5;66;03m# error: Argument 1 to \"tuple\" has incompatible type \"List[_T]\";\u001b[39;00m\n\u001b[0;32m   (...)\u001b[0m\n\u001b[1;32m   6822\u001b[0m         xnull\u001b[38;5;241m=\u001b[39m\u001b[38;5;28;01mFalse\u001b[39;00m,\n\u001b[1;32m   6823\u001b[0m     )\n\u001b[1;32m   6824\u001b[0m     result \u001b[38;5;241m=\u001b[39m \u001b[38;5;28mself\u001b[39m\u001b[38;5;241m.\u001b[39m_constructor_sliced(duplicated(ids, keep), index\u001b[38;5;241m=\u001b[39m\u001b[38;5;28mself\u001b[39m\u001b[38;5;241m.\u001b[39mindex)\n",
      "File \u001b[0;32m/opt/homebrew/Caskroom/miniforge/base/envs/dojo-env/lib/python3.10/site-packages/pandas/core/frame.py:6782\u001b[0m, in \u001b[0;36mDataFrame.duplicated.<locals>.f\u001b[0;34m(vals)\u001b[0m\n\u001b[1;32m   6781\u001b[0m \u001b[38;5;28;01mdef\u001b[39;00m \u001b[38;5;21mf\u001b[39m(vals) \u001b[38;5;241m-\u001b[39m\u001b[38;5;241m>\u001b[39m \u001b[38;5;28mtuple\u001b[39m[np\u001b[38;5;241m.\u001b[39mndarray, \u001b[38;5;28mint\u001b[39m]:\n\u001b[0;32m-> 6782\u001b[0m     labels, shape \u001b[38;5;241m=\u001b[39m \u001b[43malgorithms\u001b[49m\u001b[38;5;241;43m.\u001b[39;49m\u001b[43mfactorize\u001b[49m\u001b[43m(\u001b[49m\u001b[43mvals\u001b[49m\u001b[43m,\u001b[49m\u001b[43m \u001b[49m\u001b[43msize_hint\u001b[49m\u001b[38;5;241;43m=\u001b[39;49m\u001b[38;5;28;43mlen\u001b[39;49m\u001b[43m(\u001b[49m\u001b[38;5;28;43mself\u001b[39;49m\u001b[43m)\u001b[49m\u001b[43m)\u001b[49m\n\u001b[1;32m   6783\u001b[0m     \u001b[38;5;28;01mreturn\u001b[39;00m labels\u001b[38;5;241m.\u001b[39mastype(\u001b[38;5;124m\"\u001b[39m\u001b[38;5;124mi8\u001b[39m\u001b[38;5;124m\"\u001b[39m, copy\u001b[38;5;241m=\u001b[39m\u001b[38;5;28;01mFalse\u001b[39;00m), \u001b[38;5;28mlen\u001b[39m(shape)\n",
      "File \u001b[0;32m/opt/homebrew/Caskroom/miniforge/base/envs/dojo-env/lib/python3.10/site-packages/pandas/core/algorithms.py:822\u001b[0m, in \u001b[0;36mfactorize\u001b[0;34m(values, sort, na_sentinel, use_na_sentinel, size_hint)\u001b[0m\n\u001b[1;32m    819\u001b[0m             \u001b[38;5;66;03m# Don't modify (potentially user-provided) array\u001b[39;00m\n\u001b[1;32m    820\u001b[0m             values \u001b[38;5;241m=\u001b[39m np\u001b[38;5;241m.\u001b[39mwhere(null_mask, na_value, values)\n\u001b[0;32m--> 822\u001b[0m     codes, uniques \u001b[38;5;241m=\u001b[39m \u001b[43mfactorize_array\u001b[49m\u001b[43m(\u001b[49m\n\u001b[1;32m    823\u001b[0m \u001b[43m        \u001b[49m\u001b[43mvalues\u001b[49m\u001b[43m,\u001b[49m\n\u001b[1;32m    824\u001b[0m \u001b[43m        \u001b[49m\u001b[43mna_sentinel\u001b[49m\u001b[38;5;241;43m=\u001b[39;49m\u001b[43mna_sentinel_arg\u001b[49m\u001b[43m,\u001b[49m\n\u001b[1;32m    825\u001b[0m \u001b[43m        \u001b[49m\u001b[43msize_hint\u001b[49m\u001b[38;5;241;43m=\u001b[39;49m\u001b[43msize_hint\u001b[49m\u001b[43m,\u001b[49m\n\u001b[1;32m    826\u001b[0m \u001b[43m    \u001b[49m\u001b[43m)\u001b[49m\n\u001b[1;32m    828\u001b[0m \u001b[38;5;28;01mif\u001b[39;00m sort \u001b[38;5;129;01mand\u001b[39;00m \u001b[38;5;28mlen\u001b[39m(uniques) \u001b[38;5;241m>\u001b[39m \u001b[38;5;241m0\u001b[39m:\n\u001b[1;32m    829\u001b[0m     \u001b[38;5;28;01mif\u001b[39;00m na_sentinel \u001b[38;5;129;01mis\u001b[39;00m \u001b[38;5;28;01mNone\u001b[39;00m:\n\u001b[1;32m    830\u001b[0m         \u001b[38;5;66;03m# TODO: Can remove when na_sentinel=na_sentinel as in TODO above\u001b[39;00m\n",
      "File \u001b[0;32m/opt/homebrew/Caskroom/miniforge/base/envs/dojo-env/lib/python3.10/site-packages/pandas/core/algorithms.py:578\u001b[0m, in \u001b[0;36mfactorize_array\u001b[0;34m(values, na_sentinel, size_hint, na_value, mask)\u001b[0m\n\u001b[1;32m    575\u001b[0m hash_klass, values \u001b[38;5;241m=\u001b[39m _get_hashtable_algo(values)\n\u001b[1;32m    577\u001b[0m table \u001b[38;5;241m=\u001b[39m hash_klass(size_hint \u001b[38;5;129;01mor\u001b[39;00m \u001b[38;5;28mlen\u001b[39m(values))\n\u001b[0;32m--> 578\u001b[0m uniques, codes \u001b[38;5;241m=\u001b[39m \u001b[43mtable\u001b[49m\u001b[38;5;241;43m.\u001b[39;49m\u001b[43mfactorize\u001b[49m\u001b[43m(\u001b[49m\n\u001b[1;32m    579\u001b[0m \u001b[43m    \u001b[49m\u001b[43mvalues\u001b[49m\u001b[43m,\u001b[49m\n\u001b[1;32m    580\u001b[0m \u001b[43m    \u001b[49m\u001b[43mna_sentinel\u001b[49m\u001b[38;5;241;43m=\u001b[39;49m\u001b[43mna_sentinel\u001b[49m\u001b[43m,\u001b[49m\n\u001b[1;32m    581\u001b[0m \u001b[43m    \u001b[49m\u001b[43mna_value\u001b[49m\u001b[38;5;241;43m=\u001b[39;49m\u001b[43mna_value\u001b[49m\u001b[43m,\u001b[49m\n\u001b[1;32m    582\u001b[0m \u001b[43m    \u001b[49m\u001b[43mmask\u001b[49m\u001b[38;5;241;43m=\u001b[39;49m\u001b[43mmask\u001b[49m\u001b[43m,\u001b[49m\n\u001b[1;32m    583\u001b[0m \u001b[43m    \u001b[49m\u001b[43mignore_na\u001b[49m\u001b[38;5;241;43m=\u001b[39;49m\u001b[43mignore_na\u001b[49m\u001b[43m,\u001b[49m\n\u001b[1;32m    584\u001b[0m \u001b[43m\u001b[49m\u001b[43m)\u001b[49m\n\u001b[1;32m    586\u001b[0m \u001b[38;5;66;03m# re-cast e.g. i8->dt64/td64, uint8->bool\u001b[39;00m\n\u001b[1;32m    587\u001b[0m uniques \u001b[38;5;241m=\u001b[39m _reconstruct_data(uniques, original\u001b[38;5;241m.\u001b[39mdtype, original)\n",
      "File \u001b[0;32mpandas/_libs/hashtable_class_helper.pxi:5943\u001b[0m, in \u001b[0;36mpandas._libs.hashtable.PyObjectHashTable.factorize\u001b[0;34m()\u001b[0m\n",
      "File \u001b[0;32mpandas/_libs/hashtable_class_helper.pxi:5857\u001b[0m, in \u001b[0;36mpandas._libs.hashtable.PyObjectHashTable._unique\u001b[0;34m()\u001b[0m\n",
      "\u001b[0;31mTypeError\u001b[0m: unhashable type: 'list'"
     ]
    }
   ],
   "source": [
    "#final_df.duplicated().sum()"
   ]
  },
  {
   "cell_type": "code",
   "execution_count": 20,
   "id": "076334dd-6d17-44d4-8de2-3c29a774820b",
   "metadata": {},
   "outputs": [
    {
     "data": {
      "text/plain": [
       "0"
      ]
     },
     "execution_count": 20,
     "metadata": {},
     "output_type": "execute_result"
    }
   ],
   "source": [
    "final_df.duplicated(subset=\"id\").sum()"
   ]
  },
  {
   "cell_type": "code",
   "execution_count": 21,
   "id": "1ef8447b-0210-49a8-91b8-6775757420cf",
   "metadata": {},
   "outputs": [
    {
     "data": {
      "text/plain": [
       "0"
      ]
     },
     "execution_count": 21,
     "metadata": {},
     "output_type": "execute_result"
    }
   ],
   "source": [
    "final_df=final_df.drop_duplicates(subset=\"id\")\n",
    "final_df.duplicated(subset=\"id\").sum()"
   ]
  },
  {
   "cell_type": "code",
   "execution_count": 23,
   "id": "b046108a-88cd-4391-bd0a-a180abea0828",
   "metadata": {},
   "outputs": [],
   "source": [
    "final_df.to_csv(\"Data/final_results_HNL_pizza.csv.gz\",\n",
    "               compression=\"gzip\",index=False)"
   ]
  },
  {
   "cell_type": "code",
   "execution_count": null,
   "id": "0a75fffa-9da1-4b93-b99d-4baa28627f8f",
   "metadata": {},
   "outputs": [],
   "source": []
  },
  {
   "cell_type": "markdown",
   "id": "227f0725-cb8d-4ca1-9273-baf47a87fb65",
   "metadata": {},
   "source": [
    "### Import pandas"
   ]
  },
  {
   "cell_type": "code",
   "execution_count": null,
   "id": "ec589ef4-4df5-4827-a4ae-adce3bca511c",
   "metadata": {},
   "outputs": [],
   "source": [
    "biz=pd.DataFrame(search_results[\"businesses\"])\n",
    "biz.head(2)"
   ]
  },
  {
   "cell_type": "code",
   "execution_count": null,
   "id": "79615e61-e618-4ccd-a623-ec6585f87336",
   "metadata": {},
   "outputs": [],
   "source": []
  }
 ],
 "metadata": {
  "kernelspec": {
   "display_name": "Python (dojo-env)",
   "language": "python",
   "name": "dojo-env"
  },
  "language_info": {
   "codemirror_mode": {
    "name": "ipython",
    "version": 3
   },
   "file_extension": ".py",
   "mimetype": "text/x-python",
   "name": "python",
   "nbconvert_exporter": "python",
   "pygments_lexer": "ipython3",
   "version": "3.10.10"
  },
  "widgets": {
   "application/vnd.jupyter.widget-state+json": {
    "state": {
     "016c1a1401a64bb0bfbcda15d6b73496": {
      "model_module": "@jupyter-widgets/controls",
      "model_module_version": "2.0.0",
      "model_name": "HTMLModel",
      "state": {
       "layout": "IPY_MODEL_730d9af371ad45e18f01b442bb199876",
       "style": "IPY_MODEL_ee14c3a8d0bb46628396be955485de91",
       "value": " 47/47 [01:11&lt;00:00,  1.86s/it]"
      }
     },
     "0c2b9bb0c7b440e4bac3bd2fd54a4ada": {
      "model_module": "@jupyter-widgets/controls",
      "model_module_version": "2.0.0",
      "model_name": "HBoxModel",
      "state": {
       "children": [
        "IPY_MODEL_c20040c476f94a089793bf8463434fbc",
        "IPY_MODEL_65fbf3883ca94678bdcc7c279f1c1a6d",
        "IPY_MODEL_016c1a1401a64bb0bfbcda15d6b73496"
       ],
       "layout": "IPY_MODEL_875d8ccfe51d4c84816b443697e7dd89"
      }
     },
     "0fa31d66fd8444c1bbcb274c8f1b5e4f": {
      "model_module": "@jupyter-widgets/controls",
      "model_module_version": "2.0.0",
      "model_name": "FloatProgressModel",
      "state": {
       "bar_style": "success",
       "layout": "IPY_MODEL_6c78871e974f47d585af658ab9afb270",
       "max": 47,
       "style": "IPY_MODEL_c7ab3e5ba53140168c3385b47a547f20",
       "value": 47
      }
     },
     "183c98cc55bf40c4b6d40e049c2a70e0": {
      "model_module": "@jupyter-widgets/base",
      "model_module_version": "2.0.0",
      "model_name": "LayoutModel",
      "state": {}
     },
     "1d3fc1414b70408db970fac658204a42": {
      "model_module": "@jupyter-widgets/base",
      "model_module_version": "2.0.0",
      "model_name": "LayoutModel",
      "state": {}
     },
     "264831eee3d94c6aafa7ee08849cc95a": {
      "model_module": "@jupyter-widgets/controls",
      "model_module_version": "2.0.0",
      "model_name": "HTMLStyleModel",
      "state": {
       "description_width": "",
       "font_size": null,
       "text_color": null
      }
     },
     "368579887f834e02bdd4f4cc1be5cf29": {
      "model_module": "@jupyter-widgets/controls",
      "model_module_version": "2.0.0",
      "model_name": "HTMLModel",
      "state": {
       "layout": "IPY_MODEL_cf204d21bdc2430b929654c86da0fda4",
       "style": "IPY_MODEL_dfda0e5ef7364cf6ba175cec9d48457e",
       "value": " 47/47 [00:09&lt;00:00,  4.88it/s]"
      }
     },
     "3e40d171a94a4265969050ed55276d8d": {
      "model_module": "@jupyter-widgets/base",
      "model_module_version": "2.0.0",
      "model_name": "LayoutModel",
      "state": {}
     },
     "3faa828eb520444fb22a279cb0e0cd75": {
      "model_module": "@jupyter-widgets/base",
      "model_module_version": "2.0.0",
      "model_name": "LayoutModel",
      "state": {}
     },
     "51fa3079bde3488e85eaf9d1fc75492f": {
      "model_module": "@jupyter-widgets/controls",
      "model_module_version": "2.0.0",
      "model_name": "HTMLModel",
      "state": {
       "layout": "IPY_MODEL_183c98cc55bf40c4b6d40e049c2a70e0",
       "style": "IPY_MODEL_264831eee3d94c6aafa7ee08849cc95a",
       "value": "100%"
      }
     },
     "65fbf3883ca94678bdcc7c279f1c1a6d": {
      "model_module": "@jupyter-widgets/controls",
      "model_module_version": "2.0.0",
      "model_name": "FloatProgressModel",
      "state": {
       "bar_style": "success",
       "layout": "IPY_MODEL_1d3fc1414b70408db970fac658204a42",
       "max": 47,
       "style": "IPY_MODEL_7ba334237c1d427fb95699d847f05bd7",
       "value": 47
      }
     },
     "6c78871e974f47d585af658ab9afb270": {
      "model_module": "@jupyter-widgets/base",
      "model_module_version": "2.0.0",
      "model_name": "LayoutModel",
      "state": {}
     },
     "730d9af371ad45e18f01b442bb199876": {
      "model_module": "@jupyter-widgets/base",
      "model_module_version": "2.0.0",
      "model_name": "LayoutModel",
      "state": {}
     },
     "7ba334237c1d427fb95699d847f05bd7": {
      "model_module": "@jupyter-widgets/controls",
      "model_module_version": "2.0.0",
      "model_name": "ProgressStyleModel",
      "state": {
       "description_width": ""
      }
     },
     "875d8ccfe51d4c84816b443697e7dd89": {
      "model_module": "@jupyter-widgets/base",
      "model_module_version": "2.0.0",
      "model_name": "LayoutModel",
      "state": {}
     },
     "c20040c476f94a089793bf8463434fbc": {
      "model_module": "@jupyter-widgets/controls",
      "model_module_version": "2.0.0",
      "model_name": "HTMLModel",
      "state": {
       "layout": "IPY_MODEL_3e40d171a94a4265969050ed55276d8d",
       "style": "IPY_MODEL_ee884487477d43bf9f813a299cd900ac",
       "value": "100%"
      }
     },
     "c7ab3e5ba53140168c3385b47a547f20": {
      "model_module": "@jupyter-widgets/controls",
      "model_module_version": "2.0.0",
      "model_name": "ProgressStyleModel",
      "state": {
       "description_width": ""
      }
     },
     "cf204d21bdc2430b929654c86da0fda4": {
      "model_module": "@jupyter-widgets/base",
      "model_module_version": "2.0.0",
      "model_name": "LayoutModel",
      "state": {}
     },
     "dfda0e5ef7364cf6ba175cec9d48457e": {
      "model_module": "@jupyter-widgets/controls",
      "model_module_version": "2.0.0",
      "model_name": "HTMLStyleModel",
      "state": {
       "description_width": "",
       "font_size": null,
       "text_color": null
      }
     },
     "ec2715b9c1b444988f156f1574ce538b": {
      "model_module": "@jupyter-widgets/controls",
      "model_module_version": "2.0.0",
      "model_name": "HBoxModel",
      "state": {
       "children": [
        "IPY_MODEL_51fa3079bde3488e85eaf9d1fc75492f",
        "IPY_MODEL_0fa31d66fd8444c1bbcb274c8f1b5e4f",
        "IPY_MODEL_368579887f834e02bdd4f4cc1be5cf29"
       ],
       "layout": "IPY_MODEL_3faa828eb520444fb22a279cb0e0cd75"
      }
     },
     "ee14c3a8d0bb46628396be955485de91": {
      "model_module": "@jupyter-widgets/controls",
      "model_module_version": "2.0.0",
      "model_name": "HTMLStyleModel",
      "state": {
       "description_width": "",
       "font_size": null,
       "text_color": null
      }
     },
     "ee884487477d43bf9f813a299cd900ac": {
      "model_module": "@jupyter-widgets/controls",
      "model_module_version": "2.0.0",
      "model_name": "HTMLStyleModel",
      "state": {
       "description_width": "",
       "font_size": null,
       "text_color": null
      }
     }
    },
    "version_major": 2,
    "version_minor": 0
   }
  }
 },
 "nbformat": 4,
 "nbformat_minor": 5
}
