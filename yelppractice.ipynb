{
 "cells": [
  {
   "cell_type": "markdown",
   "id": "19bc696c-9739-4804-8561-d5da0f793cdb",
   "metadata": {},
   "source": [
    "# import Jason file"
   ]
  },
  {
   "cell_type": "code",
   "execution_count": 1,
   "id": "7f232562-cc95-4766-af1d-24586bfe9282",
   "metadata": {},
   "outputs": [
    {
     "data": {
      "text/plain": [
       "dict_keys(['client-id', 'api-key'])"
      ]
     },
     "execution_count": 1,
     "metadata": {},
     "output_type": "execute_result"
    }
   ],
   "source": [
    "import json\n",
    "with open('/Users/rowenahan/.secret/yelp_api.json') as f: #change the path to match YOUR path!!\n",
    "    login = json.load(f)\n",
    "login.keys()"
   ]
  },
  {
   "cell_type": "code",
   "execution_count": 3,
   "id": "e75b5505-0c5c-40b1-a418-6284b7091087",
   "metadata": {},
   "outputs": [
    {
     "data": {
      "text/plain": [
       "<yelpapi.yelpapi.YelpAPI at 0x1154b9030>"
      ]
     },
     "execution_count": 3,
     "metadata": {},
     "output_type": "execute_result"
    }
   ],
   "source": [
    "from yelpapi import YelpAPI\n",
    "yelp_api = YelpAPI(login[\"api-key\"],timeout_s=5.0)\n",
    "yelp_api"
   ]
  },
  {
   "cell_type": "markdown",
   "id": "abeb07af-c64b-46d2-bc95-e85d7c309d0b",
   "metadata": {},
   "source": [
    "## Search location and term"
   ]
  },
  {
   "cell_type": "code",
   "execution_count": 4,
   "id": "401b59d6-51bc-4219-b4f6-508de9c2f023",
   "metadata": {},
   "outputs": [
    {
     "name": "stdout",
     "output_type": "stream",
     "text": [
      "<class 'dict'>\n"
     ]
    },
    {
     "data": {
      "text/plain": [
       "dict_keys(['businesses', 'total', 'region'])"
      ]
     },
     "execution_count": 4,
     "metadata": {},
     "output_type": "execute_result"
    }
   ],
   "source": [
    "search_results = yelp_api.search_query(location = \"Oahu, Hawaii\",\n",
    "                                      term= \"Pizza\")\n",
    "print(type(search_results))\n",
    "search_results.keys()"
   ]
  },
  {
   "cell_type": "code",
   "execution_count": 6,
   "id": "c47ffce6-dab6-454f-960f-091d1eb089be",
   "metadata": {},
   "outputs": [
    {
     "data": {
      "text/plain": [
       "924"
      ]
     },
     "execution_count": 6,
     "metadata": {},
     "output_type": "execute_result"
    }
   ],
   "source": [
    "search_results[\"total\"]"
   ]
  },
  {
   "cell_type": "markdown",
   "id": "227f0725-cb8d-4ca1-9273-baf47a87fb65",
   "metadata": {},
   "source": [
    "### Import pandas"
   ]
  },
  {
   "cell_type": "code",
   "execution_count": 9,
   "id": "0b2cc802-586d-41ee-8571-e8bf533384b5",
   "metadata": {},
   "outputs": [],
   "source": [
    "import pandas as pd\n"
   ]
  },
  {
   "cell_type": "code",
   "execution_count": 10,
   "id": "ec589ef4-4df5-4827-a4ae-adce3bca511c",
   "metadata": {},
   "outputs": [
    {
     "data": {
      "text/html": [
       "<div>\n",
       "<style scoped>\n",
       "    .dataframe tbody tr th:only-of-type {\n",
       "        vertical-align: middle;\n",
       "    }\n",
       "\n",
       "    .dataframe tbody tr th {\n",
       "        vertical-align: top;\n",
       "    }\n",
       "\n",
       "    .dataframe thead th {\n",
       "        text-align: right;\n",
       "    }\n",
       "</style>\n",
       "<table border=\"1\" class=\"dataframe\">\n",
       "  <thead>\n",
       "    <tr style=\"text-align: right;\">\n",
       "      <th></th>\n",
       "      <th>id</th>\n",
       "      <th>alias</th>\n",
       "      <th>name</th>\n",
       "      <th>image_url</th>\n",
       "      <th>is_closed</th>\n",
       "      <th>url</th>\n",
       "      <th>review_count</th>\n",
       "      <th>categories</th>\n",
       "      <th>rating</th>\n",
       "      <th>coordinates</th>\n",
       "      <th>transactions</th>\n",
       "      <th>price</th>\n",
       "      <th>location</th>\n",
       "      <th>phone</th>\n",
       "      <th>display_phone</th>\n",
       "      <th>distance</th>\n",
       "    </tr>\n",
       "  </thead>\n",
       "  <tbody>\n",
       "    <tr>\n",
       "      <th>0</th>\n",
       "      <td>b7beu_ddBb7yiMc0Tgfr0A</td>\n",
       "      <td>old-town-pizzeria-and-tap-house-wahiawa</td>\n",
       "      <td>Old Town Pizzeria &amp; Tap House</td>\n",
       "      <td>https://s3-media3.fl.yelpcdn.com/bphoto/TYq3l6...</td>\n",
       "      <td>False</td>\n",
       "      <td>https://www.yelp.com/biz/old-town-pizzeria-and...</td>\n",
       "      <td>39</td>\n",
       "      <td>[{'alias': 'pizza', 'title': 'Pizza'}, {'alias...</td>\n",
       "      <td>4.0</td>\n",
       "      <td>{'latitude': 21.4935665206445, 'longitude': -1...</td>\n",
       "      <td>[]</td>\n",
       "      <td>$$</td>\n",
       "      <td>{'address1': '167 S Kamehameha Hwy', 'address2...</td>\n",
       "      <td>+18082005800</td>\n",
       "      <td>(808) 200-5800</td>\n",
       "      <td>6806.093112</td>\n",
       "    </tr>\n",
       "    <tr>\n",
       "      <th>1</th>\n",
       "      <td>ev-HilLF1ru2S76NkAxQIA</td>\n",
       "      <td>uncles-ny-deli-pizza-pasta-and-subs-wahiawa</td>\n",
       "      <td>Uncle's NY Deli, Pizza, Pasta &amp; Subs</td>\n",
       "      <td>https://s3-media4.fl.yelpcdn.com/bphoto/myqY1l...</td>\n",
       "      <td>False</td>\n",
       "      <td>https://www.yelp.com/biz/uncles-ny-deli-pizza-...</td>\n",
       "      <td>334</td>\n",
       "      <td>[{'alias': 'pizza', 'title': 'Pizza'}, {'alias...</td>\n",
       "      <td>4.0</td>\n",
       "      <td>{'latitude': 21.49506, 'longitude': -158.05007}</td>\n",
       "      <td>[pickup]</td>\n",
       "      <td>$$</td>\n",
       "      <td>{'address1': '1718 Wilikina Dr', 'address2': '...</td>\n",
       "      <td>+18085173232</td>\n",
       "      <td>(808) 517-3232</td>\n",
       "      <td>8978.617509</td>\n",
       "    </tr>\n",
       "  </tbody>\n",
       "</table>\n",
       "</div>"
      ],
      "text/plain": [
       "                       id                                        alias  \\\n",
       "0  b7beu_ddBb7yiMc0Tgfr0A      old-town-pizzeria-and-tap-house-wahiawa   \n",
       "1  ev-HilLF1ru2S76NkAxQIA  uncles-ny-deli-pizza-pasta-and-subs-wahiawa   \n",
       "\n",
       "                                   name  \\\n",
       "0         Old Town Pizzeria & Tap House   \n",
       "1  Uncle's NY Deli, Pizza, Pasta & Subs   \n",
       "\n",
       "                                           image_url  is_closed  \\\n",
       "0  https://s3-media3.fl.yelpcdn.com/bphoto/TYq3l6...      False   \n",
       "1  https://s3-media4.fl.yelpcdn.com/bphoto/myqY1l...      False   \n",
       "\n",
       "                                                 url  review_count  \\\n",
       "0  https://www.yelp.com/biz/old-town-pizzeria-and...            39   \n",
       "1  https://www.yelp.com/biz/uncles-ny-deli-pizza-...           334   \n",
       "\n",
       "                                          categories  rating  \\\n",
       "0  [{'alias': 'pizza', 'title': 'Pizza'}, {'alias...     4.0   \n",
       "1  [{'alias': 'pizza', 'title': 'Pizza'}, {'alias...     4.0   \n",
       "\n",
       "                                         coordinates transactions price  \\\n",
       "0  {'latitude': 21.4935665206445, 'longitude': -1...           []    $$   \n",
       "1    {'latitude': 21.49506, 'longitude': -158.05007}     [pickup]    $$   \n",
       "\n",
       "                                            location         phone  \\\n",
       "0  {'address1': '167 S Kamehameha Hwy', 'address2...  +18082005800   \n",
       "1  {'address1': '1718 Wilikina Dr', 'address2': '...  +18085173232   \n",
       "\n",
       "    display_phone     distance  \n",
       "0  (808) 200-5800  6806.093112  \n",
       "1  (808) 517-3232  8978.617509  "
      ]
     },
     "execution_count": 10,
     "metadata": {},
     "output_type": "execute_result"
    }
   ],
   "source": [
    "biz=pd.DataFrame(search_results[\"businesses\"])\n",
    "biz.head(2)"
   ]
  },
  {
   "cell_type": "code",
   "execution_count": null,
   "id": "79615e61-e618-4ccd-a623-ec6585f87336",
   "metadata": {},
   "outputs": [],
   "source": []
  }
 ],
 "metadata": {
  "kernelspec": {
   "display_name": "Python (dojo-env)",
   "language": "python",
   "name": "dojo-env"
  },
  "language_info": {
   "codemirror_mode": {
    "name": "ipython",
    "version": 3
   },
   "file_extension": ".py",
   "mimetype": "text/x-python",
   "name": "python",
   "nbconvert_exporter": "python",
   "pygments_lexer": "ipython3",
   "version": "3.10.10"
  },
  "widgets": {
   "application/vnd.jupyter.widget-state+json": {
    "state": {},
    "version_major": 2,
    "version_minor": 0
   }
  }
 },
 "nbformat": 4,
 "nbformat_minor": 5
}
